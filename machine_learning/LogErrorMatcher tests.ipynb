{
 "cells": [
  {
   "cell_type": "code",
   "execution_count": 17,
   "metadata": {},
   "outputs": [],
   "source": [
    "import pandas as pd\n",
    "import matplotlib.pyplot as plt\n",
    "import seaborn as sns\n",
    "import numpy as np\n",
    "from scipy.stats import norm\n",
    "from sklearn.preprocessing import StandardScaler, minmax_scale\n",
    "from scipy import stats\n",
    "import warnings\n",
    "import missingno as msno\n",
    "import pyod\n",
    "import math\n",
    "import sklearn.naive_bayes as nb\n",
    "import sklearn.svm as svm\n",
    "from sklearn.metrics import accuracy_score, classification_report\n",
    "import pickle\n",
    "\n",
    "# From https://towardsdatascience.com/use-the-isolated-forest-with-pyod-3818eea68f08\n",
    "from pyod.models.iforest import IForest\n",
    "from sklearn.model_selection import train_test_split\n",
    "from sklearn.decomposition import PCA\n",
    "from pyod.models.combination import average\n",
    "from pyod.utils.utility import standardizer\n",
    "\n",
    "warnings.filterwarnings('ignore')\n",
    "%matplotlib inline"
   ]
  },
  {
   "cell_type": "code",
   "execution_count": 18,
   "metadata": {},
   "outputs": [
    {
     "name": "stdout",
     "output_type": "stream",
     "text": [
      "Reading...\n",
      "Done\n"
     ]
    }
   ],
   "source": [
    "# Welcome to the Build-A-Panda Workshop...\n",
    "titles = []\n",
    "traces = []\n",
    "\n",
    "print(\"Reading...\")\n",
    "titles.extend(pd.read_pickle(\"./data_2/titles_vec.pkl\"))\n",
    "traces.extend(pd.read_pickle(\"./data_2/traces_vec.pkl\"))\n",
    "print(\"Done\")"
   ]
  },
  {
   "cell_type": "code",
   "execution_count": 19,
   "metadata": {},
   "outputs": [],
   "source": [
    "# Generate good/bad data\n",
    "data: list = []\n",
    "data_bad: list = []\n",
    "\n",
    "length: int = len(titles)\n",
    "for i in range(0, length):\n",
    "    data.append(titles[i] + traces[i])\n",
    "    data_bad.append(titles[(i + 1) % length] + traces[i])"
   ]
  },
  {
   "cell_type": "code",
   "execution_count": 20,
   "metadata": {},
   "outputs": [],
   "source": [
    "# Based on https://towardsdatascience.com/use-the-isolated-forest-with-pyod-3818eea68f08\n",
    "# Create\n",
    "X: list = []\n",
    "X.extend(data)\n",
    "X.extend(data_bad)\n",
    "length = len(data)\n",
    "y = [0] * len(X)\n",
    "for i in range(0, length):\n",
    "    y[i] = 1\n",
    "\n",
    "# Standardize\n",
    "X = StandardScaler().fit_transform(X)\n",
    "X = pd.DataFrame(X)\n",
    "y = pd.DataFrame(y)"
   ]
  },
  {
   "cell_type": "code",
   "execution_count": 21,
   "metadata": {},
   "outputs": [
    {
     "name": "stdout",
     "output_type": "stream",
     "text": [
      "1180198\n"
     ]
    }
   ],
   "source": [
    "# Training and Test Split\n",
    "X_train, X_test, y_train, y_test = train_test_split(X, y, test_size=0.33, random_state=42, shuffle=True)\n",
    "print(len(X_train))\n",
    "\n",
    "# pca = PCA(2)\n",
    "# x_pca = pca.fit_transform(X)\n",
    "# x_pca = pd.DataFrame(x_pca)\n",
    "# x_pca.columns=['PC1','PC2']\n",
    "# x_pca.head()\n",
    "# x_pca.plot(kind='scatter', x='PC1', y='PC2')"
   ]
  },
  {
   "cell_type": "code",
   "execution_count": 22,
   "metadata": {},
   "outputs": [
    {
     "name": "stdout",
     "output_type": "stream",
     "text": [
      "1180198\n",
      "Train 1\n",
      "Train 2\n",
      "Train 3\n"
     ]
    },
    {
     "data": {
      "text/plain": [
       "IForest(behaviour='new', bootstrap=False, contamination=0.1, max_features=1.0,\n",
       "    max_samples=708119, n_estimators=100, n_jobs=1, random_state=None,\n",
       "    verbose=0)"
      ]
     },
     "execution_count": 22,
     "metadata": {},
     "output_type": "execute_result"
    }
   ],
   "source": [
    "# Train sizes\n",
    "amt1:int = len(X_train)\n",
    "amt2:int = math.ceil(amt1 * 0.8)\n",
    "amt3:int = math.ceil(amt1 * 0.6)\n",
    "\n",
    "# Build models\n",
    "print(amt1)\n",
    "print(\"Train 1\")\n",
    "clf1 = IForest(behaviour=\"new\", max_samples=amt1)\n",
    "clf1.fit(X_train)\n",
    "\n",
    "print(\"Train 2\")\n",
    "clf2 = IForest(behaviour=\"new\", max_samples=amt2)\n",
    "clf2.fit(X_train)\n",
    "\n",
    "print(\"Train 3\")\n",
    "clf3 = IForest(behaviour=\"new\", max_samples=amt3) \n",
    "clf3.fit(X_train)"
   ]
  },
  {
   "cell_type": "code",
   "execution_count": 23,
   "metadata": {},
   "outputs": [],
   "source": [
    "# Once again from https://towardsdatascience.com/use-the-isolated-forest-with-pyod-3818eea68f08\n",
    "train_scores = pd.DataFrame({'clf1': clf1.decision_scores_,\n",
    "                             'clf2': clf2.decision_scores_,\n",
    "                             'clf3': clf3.decision_scores_\n",
    "                            })\n",
    "\n",
    "# The predictions of the test data need to be predicted using clf.decision_function(X_test)\n",
    "test_scores  = pd.DataFrame({'clf1': clf1.decision_function(X_test),\n",
    "                             'clf2': clf2.decision_function(X_test),\n",
    "                             'clf3': clf3.decision_function(X_test) \n",
    "                            })\n",
    "\n",
    "# Normalize\n",
    "train_scores_norm, test_scores_norm = standardizer(train_scores,test_scores)"
   ]
  },
  {
   "cell_type": "code",
   "execution_count": 24,
   "metadata": {},
   "outputs": [
    {
     "data": {
      "image/png": "[encoded data removed]",
      "text/plain": [
       "<Figure size 432x288 with 1 Axes>"
      ]
     },
     "metadata": {
      "needs_background": "light"
     },
     "output_type": "display_data"
    }
   ],
   "source": [
    "# One more time: from https://towardsdatascience.com/use-the-isolated-forest-with-pyod-3818eea68f08\n",
    "# Combination by average\n",
    "y_by_average = average(test_scores_norm)\n",
    "\n",
    "plt.hist(y_by_average, bins='auto')  # arguments are passed to np.histogram\n",
    "plt.title(\"Combination by average\")\n",
    "plt.show()\n",
    "# Result: 6.25+ is definitely outliers, looks like could be dialed back as far as to 5"
   ]
  },
  {
   "cell_type": "code",
   "execution_count": 25,
   "metadata": {},
   "outputs": [],
   "source": [
    "# Get copies\n",
    "cats_avg = average(train_scores_norm)\n",
    "X_train_cluster = X_train.copy()\n",
    "y_train_cluster = y_train.copy()\n",
    "\n",
    "# Apply anomaly scores\n",
    "X_train_cluster[\"distance\"] = cats_avg\n",
    "y_train_cluster[\"distance\"] = cats_avg\n",
    "\n",
    "# Cluster\n",
    "X_train_cluster = np.where(X_train_cluster['distance']<5, 0, 1)"
   ]
  },
  {
   "cell_type": "code",
   "execution_count": 26,
   "metadata": {},
   "outputs": [],
   "source": [
    "toDrop: list = []\n",
    "for i in range(0, len(X_train_cluster) - 1):\n",
    "    if X_train_cluster[i]:\n",
    "        toDrop.append(i)\n",
    "\n",
    "X_train_filtered: list = X_train.drop(X_train.index[toDrop])\n",
    "y_train_filtered: list = y_train.drop(y_train.index[toDrop])"
   ]
  },
  {
   "cell_type": "code",
   "execution_count": 27,
   "metadata": {},
   "outputs": [
    {
     "data": {
      "image/png": "[encoded data removed]",
      "text/plain": [
       "<Figure size 432x288 with 1 Axes>"
      ]
     },
     "metadata": {
      "needs_background": "light"
     },
     "output_type": "display_data"
    }
   ],
   "source": [
    "# Verify\n",
    "train_scores  = pd.DataFrame({'clf1': clf1.decision_function(X_train_filtered),\n",
    "                              'clf2': clf2.decision_function(X_train_filtered),\n",
    "                              'clf3': clf3.decision_function(X_train_filtered) \n",
    "                            })\n",
    "y_by_average = average(standardizer(train_scores))\n",
    "\n",
    "plt.hist(y_by_average, bins='auto')  # arguments are passed to np.histogram\n",
    "plt.title(\"Filtered\")\n",
    "plt.show()"
   ]
  },
  {
   "cell_type": "code",
   "execution_count": 28,
   "metadata": {},
   "outputs": [],
   "source": [
    "# TODO Clean out the other 2/3 of the data set"
   ]
  },
  {
   "cell_type": "code",
   "execution_count": 32,
   "metadata": {},
   "outputs": [],
   "source": [
    "def train(test, name: str):\n",
    "    # Train\n",
    "    train_data = minmax_scale(standardizer(X_train_filtered))\n",
    "    test.fit(train_data, y_train_filtered)\n",
    "\n",
    "    # Predict\n",
    "    test_data = minmax_scale(standardizer(X_test))\n",
    "    prediction = test.predict(X_test)\n",
    "    print(\"===============\" + name + \"===============\\n\")\n",
    "    print('Accuracy:%.2f%%' % (accuracy_score(y_test, prediction) * 100))\n",
    "    print('Classification Report:')\n",
    "    print(classification_report(y_test, prediction))\n",
    "\n",
    "    # Persist classifier to disk\n",
    "    with open(name, \"wb\") as out_file:\n",
    "        pickle.dump(test, out_file)"
   ]
  },
  {
   "cell_type": "code",
   "execution_count": 33,
   "metadata": {},
   "outputs": [
    {
     "name": "stdout",
     "output_type": "stream",
     "text": [
      "===============multinomial.pkl===============\n",
      "\n",
      "Accuracy:49.91%\n",
      "Classification Report:\n",
      "              precision    recall  f1-score   support\n",
      "\n",
      "           0       0.50      0.33      0.40    291011\n",
      "           1       0.50      0.67      0.57    290281\n",
      "\n",
      "    accuracy                           0.50    581292\n",
      "   macro avg       0.50      0.50      0.48    581292\n",
      "weighted avg       0.50      0.50      0.48    581292\n",
      "\n",
      "===============comp.pkl===============\n",
      "\n",
      "Accuracy:49.92%\n",
      "Classification Report:\n",
      "              precision    recall  f1-score   support\n",
      "\n",
      "           0       0.50      0.34      0.40    291011\n",
      "           1       0.50      0.66      0.57    290281\n",
      "\n",
      "    accuracy                           0.50    581292\n",
      "   macro avg       0.50      0.50      0.49    581292\n",
      "weighted avg       0.50      0.50      0.49    581292\n",
      "\n",
      "===============bern.pkl===============\n",
      "\n",
      "Accuracy:50.07%\n",
      "Classification Report:\n",
      "              precision    recall  f1-score   support\n",
      "\n",
      "           0       0.50      0.66      0.57    291011\n",
      "           1       0.50      0.35      0.41    290281\n",
      "\n",
      "    accuracy                           0.50    581292\n",
      "   macro avg       0.50      0.50      0.49    581292\n",
      "weighted avg       0.50      0.50      0.49    581292\n",
      "\n"
     ]
    }
   ],
   "source": [
    "# Naive Bayes\n",
    "train(nb.MultinomialNB(), \"multinomial.pkl\")\n",
    "train(nb.ComplementNB(), \"comp.pkl\")\n",
    "train(nb.BernoulliNB(), \"bern.pkl\")\n",
    "\n",
    "# SVMs\n",
    "# train(svm.SVC(), \"svc.pkl\")\n",
    "# train(svm.NuSVC(), \"nusvc.pkl\")\n",
    "train(svm.LinearSVC(random_state=42), \"linearsvc.pkl\")"
   ]
  },
  {
   "cell_type": "code",
   "execution_count": null,
   "metadata": {},
   "outputs": [],
   "source": [
    "#scatterplot\n",
    "# sns.set()\n",
    "# cols = [0, 10, 20, 30, 40, 50, 60, 70, 80, 90, 99]\n",
    "# sns.pairplot(panda_data[cols], size = 2.5)\n",
    "# plt.show();"
   ]
  }
 ],
 "metadata": {
  "kernelspec": {
   "display_name": "Python 3",
   "language": "python",
   "name": "python3"
  },
  "language_info": {
   "codemirror_mode": {
    "name": "ipython",
    "version": 3
   },
   "file_extension": ".py",
   "mimetype": "text/x-python",
   "name": "python",
   "nbconvert_exporter": "python",
   "pygments_lexer": "ipython3",
   "version": "3.7.4"
  }
 },
 "nbformat": 4,
 "nbformat_minor": 2
}
